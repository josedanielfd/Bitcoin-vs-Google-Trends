{
 "cells": [
  {
   "cell_type": "code",
   "execution_count": 1,
   "metadata": {},
   "outputs": [],
   "source": [
    "import pandas as pd"
   ]
  },
  {
   "cell_type": "markdown",
   "metadata": {},
   "source": [
    "This Jupyter Notebook has the purspose to explore the relation between Google Trends and Bitcoin Prices"
   ]
  },
  {
   "cell_type": "code",
   "execution_count": 10,
   "metadata": {},
   "outputs": [],
   "source": [
    "bitcoin = pd.read_csv('multiTimeline Bitcoin.csv')"
   ]
  },
  {
   "cell_type": "code",
   "execution_count": 11,
   "metadata": {},
   "outputs": [
    {
     "data": {
      "text/html": [
       "<div>\n",
       "<style scoped>\n",
       "    .dataframe tbody tr th:only-of-type {\n",
       "        vertical-align: middle;\n",
       "    }\n",
       "\n",
       "    .dataframe tbody tr th {\n",
       "        vertical-align: top;\n",
       "    }\n",
       "\n",
       "    .dataframe thead th {\n",
       "        text-align: right;\n",
       "    }\n",
       "</style>\n",
       "<table border=\"1\" class=\"dataframe\">\n",
       "  <thead>\n",
       "    <tr style=\"text-align: right;\">\n",
       "      <th></th>\n",
       "      <th>Week</th>\n",
       "      <th>bitcoin: (Worldwide)</th>\n",
       "    </tr>\n",
       "  </thead>\n",
       "  <tbody>\n",
       "    <tr>\n",
       "      <th>0</th>\n",
       "      <td>3/24/13</td>\n",
       "      <td>4</td>\n",
       "    </tr>\n",
       "    <tr>\n",
       "      <th>1</th>\n",
       "      <td>3/31/13</td>\n",
       "      <td>6</td>\n",
       "    </tr>\n",
       "    <tr>\n",
       "      <th>2</th>\n",
       "      <td>4/7/13</td>\n",
       "      <td>11</td>\n",
       "    </tr>\n",
       "    <tr>\n",
       "      <th>3</th>\n",
       "      <td>4/14/13</td>\n",
       "      <td>6</td>\n",
       "    </tr>\n",
       "    <tr>\n",
       "      <th>4</th>\n",
       "      <td>4/21/13</td>\n",
       "      <td>3</td>\n",
       "    </tr>\n",
       "  </tbody>\n",
       "</table>\n",
       "</div>"
      ],
      "text/plain": [
       "      Week  bitcoin: (Worldwide)\n",
       "0  3/24/13                     4\n",
       "1  3/31/13                     6\n",
       "2   4/7/13                    11\n",
       "3  4/14/13                     6\n",
       "4  4/21/13                     3"
      ]
     },
     "execution_count": 11,
     "metadata": {},
     "output_type": "execute_result"
    }
   ],
   "source": [
    "bitcoin.head()"
   ]
  },
  {
   "cell_type": "code",
   "execution_count": 12,
   "metadata": {},
   "outputs": [],
   "source": [
    "from datetime import datetime\n",
    "dates_btc = []\n",
    "weeks_btc = []\n",
    "for i in range(len(bitcoin)):\n",
    "    dt = datetime.strptime(bitcoin['Week'][i], '%m/%d/%y')\n",
    "    year = dt.year\n",
    "    week = dt.isocalendar()[1]\n",
    "    if int(week) < 10:\n",
    "        weeks_btc.append(str(year)+'-0'+str(week))\n",
    "    else:\n",
    "        weeks_btc.append(str(year)+'-'+str(week))"
   ]
  },
  {
   "cell_type": "code",
   "execution_count": 13,
   "metadata": {},
   "outputs": [],
   "source": [
    "weeks_google_btc = pd.DataFrame(weeks_btc)\n",
    "bitcoin['weeks_btc'] = weeks_btc"
   ]
  },
  {
   "cell_type": "code",
   "execution_count": 14,
   "metadata": {},
   "outputs": [
    {
     "data": {
      "text/html": [
       "<div>\n",
       "<style scoped>\n",
       "    .dataframe tbody tr th:only-of-type {\n",
       "        vertical-align: middle;\n",
       "    }\n",
       "\n",
       "    .dataframe tbody tr th {\n",
       "        vertical-align: top;\n",
       "    }\n",
       "\n",
       "    .dataframe thead th {\n",
       "        text-align: right;\n",
       "    }\n",
       "</style>\n",
       "<table border=\"1\" class=\"dataframe\">\n",
       "  <thead>\n",
       "    <tr style=\"text-align: right;\">\n",
       "      <th></th>\n",
       "      <th>bitcoin: (Worldwide)</th>\n",
       "    </tr>\n",
       "    <tr>\n",
       "      <th>weeks_btc</th>\n",
       "      <th></th>\n",
       "    </tr>\n",
       "  </thead>\n",
       "  <tbody>\n",
       "    <tr>\n",
       "      <th>2013-12</th>\n",
       "      <td>4</td>\n",
       "    </tr>\n",
       "    <tr>\n",
       "      <th>2013-13</th>\n",
       "      <td>6</td>\n",
       "    </tr>\n",
       "    <tr>\n",
       "      <th>2013-14</th>\n",
       "      <td>11</td>\n",
       "    </tr>\n",
       "    <tr>\n",
       "      <th>2013-15</th>\n",
       "      <td>6</td>\n",
       "    </tr>\n",
       "    <tr>\n",
       "      <th>2013-16</th>\n",
       "      <td>3</td>\n",
       "    </tr>\n",
       "  </tbody>\n",
       "</table>\n",
       "</div>"
      ],
      "text/plain": [
       "           bitcoin: (Worldwide)\n",
       "weeks_btc                      \n",
       "2013-12                       4\n",
       "2013-13                       6\n",
       "2013-14                      11\n",
       "2013-15                       6\n",
       "2013-16                       3"
      ]
     },
     "execution_count": 14,
     "metadata": {},
     "output_type": "execute_result"
    }
   ],
   "source": [
    "bitcoin.index = bitcoin['weeks_btc']\n",
    "bitcoin.drop(['Week','weeks_btc'], axis = 1, inplace = True)\n",
    "bitcoin.head()"
   ]
  },
  {
   "cell_type": "code",
   "execution_count": 67,
   "metadata": {},
   "outputs": [],
   "source": [
    "btc_charts = pd.read_csv('Bitcoin_Charts.csv')"
   ]
  },
  {
   "cell_type": "code",
   "execution_count": 75,
   "metadata": {},
   "outputs": [
    {
     "data": {
      "text/html": [
       "<div>\n",
       "<style scoped>\n",
       "    .dataframe tbody tr th:only-of-type {\n",
       "        vertical-align: middle;\n",
       "    }\n",
       "\n",
       "    .dataframe tbody tr th {\n",
       "        vertical-align: top;\n",
       "    }\n",
       "\n",
       "    .dataframe thead th {\n",
       "        text-align: right;\n",
       "    }\n",
       "</style>\n",
       "<table border=\"1\" class=\"dataframe\">\n",
       "  <thead>\n",
       "    <tr style=\"text-align: right;\">\n",
       "      <th></th>\n",
       "      <th>Timestamp</th>\n",
       "      <th>Open</th>\n",
       "      <th>High</th>\n",
       "      <th>Low</th>\n",
       "      <th>Close</th>\n",
       "      <th>Volume (BTC)</th>\n",
       "      <th>Volume (Currency)</th>\n",
       "      <th>Weighted Price</th>\n",
       "      <th>week</th>\n",
       "    </tr>\n",
       "  </thead>\n",
       "  <tbody>\n",
       "    <tr>\n",
       "      <th>0</th>\n",
       "      <td>3/25/14 0:00</td>\n",
       "      <td>585.9</td>\n",
       "      <td>587.48</td>\n",
       "      <td>568.86</td>\n",
       "      <td>583.77</td>\n",
       "      <td>8107.38</td>\n",
       "      <td>4681178.66</td>\n",
       "      <td>577.4</td>\n",
       "      <td>2014-13</td>\n",
       "    </tr>\n",
       "    <tr>\n",
       "      <th>1</th>\n",
       "      <td>3/26/14 0:00</td>\n",
       "      <td>583.77</td>\n",
       "      <td>592</td>\n",
       "      <td>565</td>\n",
       "      <td>581.49</td>\n",
       "      <td>10310.36</td>\n",
       "      <td>5986251.83</td>\n",
       "      <td>580.61</td>\n",
       "      <td>2014-13</td>\n",
       "    </tr>\n",
       "    <tr>\n",
       "      <th>2</th>\n",
       "      <td>3/27/14 0:00</td>\n",
       "      <td>581.48</td>\n",
       "      <td>581.59</td>\n",
       "      <td>466.1</td>\n",
       "      <td>475.00</td>\n",
       "      <td>49205.96</td>\n",
       "      <td>25830547.04</td>\n",
       "      <td>524.95</td>\n",
       "      <td>2014-13</td>\n",
       "    </tr>\n",
       "    <tr>\n",
       "      <th>3</th>\n",
       "      <td>3/28/14 0:00</td>\n",
       "      <td>475</td>\n",
       "      <td>532</td>\n",
       "      <td>468.3</td>\n",
       "      <td>502.01</td>\n",
       "      <td>34960.06</td>\n",
       "      <td>17558323.58</td>\n",
       "      <td>502.24</td>\n",
       "      <td>2014-13</td>\n",
       "    </tr>\n",
       "    <tr>\n",
       "      <th>4</th>\n",
       "      <td>3/29/14 0:00</td>\n",
       "      <td>502.01</td>\n",
       "      <td>508</td>\n",
       "      <td>486.97</td>\n",
       "      <td>491.99</td>\n",
       "      <td>7446.56</td>\n",
       "      <td>3710682.75</td>\n",
       "      <td>498.31</td>\n",
       "      <td>2014-13</td>\n",
       "    </tr>\n",
       "  </tbody>\n",
       "</table>\n",
       "</div>"
      ],
      "text/plain": [
       "      Timestamp    Open    High     Low   Close Volume (BTC)  \\\n",
       "0  3/25/14 0:00   585.9  587.48  568.86  583.77      8107.38   \n",
       "1  3/26/14 0:00  583.77     592     565  581.49     10310.36   \n",
       "2  3/27/14 0:00  581.48  581.59   466.1  475.00     49205.96   \n",
       "3  3/28/14 0:00     475     532   468.3  502.01     34960.06   \n",
       "4  3/29/14 0:00  502.01     508  486.97  491.99      7446.56   \n",
       "\n",
       "  Volume (Currency) Weighted Price     week  \n",
       "0        4681178.66          577.4  2014-13  \n",
       "1        5986251.83         580.61  2014-13  \n",
       "2       25830547.04         524.95  2014-13  \n",
       "3       17558323.58         502.24  2014-13  \n",
       "4        3710682.75         498.31  2014-13  "
      ]
     },
     "execution_count": 75,
     "metadata": {},
     "output_type": "execute_result"
    }
   ],
   "source": [
    "btc_charts.head()"
   ]
  },
  {
   "cell_type": "code",
   "execution_count": 69,
   "metadata": {},
   "outputs": [],
   "source": [
    "btc_charts = btc_charts[btc_charts['Close'].str.match(\"[0-9]\")]"
   ]
  },
  {
   "cell_type": "code",
   "execution_count": 76,
   "metadata": {},
   "outputs": [],
   "source": [
    "btc_charts['Close'] = btc_charts['Close'].astype('float')\n",
    "btc_charts['Volume (Currency)'] = btc_charts['Volume (Currency)'].astype('float')"
   ]
  },
  {
   "cell_type": "code",
   "execution_count": 77,
   "metadata": {},
   "outputs": [],
   "source": [
    "from datetime import datetime\n",
    "dates_btc = []\n",
    "weeks_btc = []\n",
    "for i in range(len(btc_charts)):\n",
    "    dt = datetime.strptime(btc_charts.iloc[i,0], '%m/%d/%y %H:%M')\n",
    "    year = dt.year\n",
    "    week = dt.isocalendar()[1]\n",
    "    if int(week) < 10:\n",
    "        weeks_btc.append(str(year)+'-0'+str(week))\n",
    "    else:\n",
    "        weeks_btc.append(str(year)+'-'+str(week))"
   ]
  },
  {
   "cell_type": "code",
   "execution_count": 78,
   "metadata": {},
   "outputs": [],
   "source": [
    "week_btc_charts= pd.DataFrame(weeks_btc)\n",
    "btc_charts['week'] = week_btc_charts\n",
    "grps_btc_charts = btc_charts.groupby(by = 'week')"
   ]
  },
  {
   "cell_type": "code",
   "execution_count": 79,
   "metadata": {},
   "outputs": [],
   "source": [
    "volume = grps_btc_charts['Volume (Currency)'].describe()['mean']\n",
    "close_price = grps_btc_charts['Close'].describe()['mean']"
   ]
  },
  {
   "cell_type": "code",
   "execution_count": 84,
   "metadata": {},
   "outputs": [],
   "source": [
    "#volume['close_price'] = close_price\n",
    "data_btc_charts = pd.DataFrame(data = {'closed_price':close_price, 'volume':volume})"
   ]
  },
  {
   "cell_type": "code",
   "execution_count": 86,
   "metadata": {},
   "outputs": [
    {
     "data": {
      "text/html": [
       "<div>\n",
       "<style scoped>\n",
       "    .dataframe tbody tr th:only-of-type {\n",
       "        vertical-align: middle;\n",
       "    }\n",
       "\n",
       "    .dataframe tbody tr th {\n",
       "        vertical-align: top;\n",
       "    }\n",
       "\n",
       "    .dataframe thead th {\n",
       "        text-align: right;\n",
       "    }\n",
       "</style>\n",
       "<table border=\"1\" class=\"dataframe\">\n",
       "  <thead>\n",
       "    <tr style=\"text-align: right;\">\n",
       "      <th></th>\n",
       "      <th>closed_price</th>\n",
       "      <th>volume</th>\n",
       "    </tr>\n",
       "  </thead>\n",
       "  <tbody>\n",
       "    <tr>\n",
       "      <th>2014-01</th>\n",
       "      <td>315.026667</td>\n",
       "      <td>2.31987e+06</td>\n",
       "    </tr>\n",
       "    <tr>\n",
       "      <th>2014-13</th>\n",
       "      <td>515.710000</td>\n",
       "      <td>1.20367e+07</td>\n",
       "    </tr>\n",
       "    <tr>\n",
       "      <th>2014-14</th>\n",
       "      <td>456.730000</td>\n",
       "      <td>8.63078e+06</td>\n",
       "    </tr>\n",
       "    <tr>\n",
       "      <th>2014-15</th>\n",
       "      <td>424.030000</td>\n",
       "      <td>7.8688e+06</td>\n",
       "    </tr>\n",
       "    <tr>\n",
       "      <th>2014-16</th>\n",
       "      <td>499.500000</td>\n",
       "      <td>1.01039e+07</td>\n",
       "    </tr>\n",
       "  </tbody>\n",
       "</table>\n",
       "</div>"
      ],
      "text/plain": [
       "         closed_price       volume\n",
       "2014-01    315.026667  2.31987e+06\n",
       "2014-13    515.710000  1.20367e+07\n",
       "2014-14    456.730000  8.63078e+06\n",
       "2014-15    424.030000   7.8688e+06\n",
       "2014-16    499.500000  1.01039e+07"
      ]
     },
     "execution_count": 86,
     "metadata": {},
     "output_type": "execute_result"
    }
   ],
   "source": [
    "data_btc_charts.head()"
   ]
  },
  {
   "cell_type": "code",
   "execution_count": 89,
   "metadata": {},
   "outputs": [],
   "source": [
    "final_data_all = bitcoin.join(data_btc_charts, how='inner')\n",
    "final_data_all.columns = ('bitcoin','close_price','volume')"
   ]
  },
  {
   "cell_type": "code",
   "execution_count": 90,
   "metadata": {},
   "outputs": [
    {
     "data": {
      "text/html": [
       "<div>\n",
       "<style scoped>\n",
       "    .dataframe tbody tr th:only-of-type {\n",
       "        vertical-align: middle;\n",
       "    }\n",
       "\n",
       "    .dataframe tbody tr th {\n",
       "        vertical-align: top;\n",
       "    }\n",
       "\n",
       "    .dataframe thead th {\n",
       "        text-align: right;\n",
       "    }\n",
       "</style>\n",
       "<table border=\"1\" class=\"dataframe\">\n",
       "  <thead>\n",
       "    <tr style=\"text-align: right;\">\n",
       "      <th></th>\n",
       "      <th>bitcoin</th>\n",
       "      <th>close_price</th>\n",
       "      <th>volume</th>\n",
       "    </tr>\n",
       "  </thead>\n",
       "  <tbody>\n",
       "    <tr>\n",
       "      <th>2014-01</th>\n",
       "      <td>7</td>\n",
       "      <td>315.026667</td>\n",
       "      <td>2.31987e+06</td>\n",
       "    </tr>\n",
       "    <tr>\n",
       "      <th>2014-13</th>\n",
       "      <td>4</td>\n",
       "      <td>515.710000</td>\n",
       "      <td>1.20367e+07</td>\n",
       "    </tr>\n",
       "    <tr>\n",
       "      <th>2014-14</th>\n",
       "      <td>3</td>\n",
       "      <td>456.730000</td>\n",
       "      <td>8.63078e+06</td>\n",
       "    </tr>\n",
       "    <tr>\n",
       "      <th>2014-15</th>\n",
       "      <td>3</td>\n",
       "      <td>424.030000</td>\n",
       "      <td>7.8688e+06</td>\n",
       "    </tr>\n",
       "    <tr>\n",
       "      <th>2014-16</th>\n",
       "      <td>3</td>\n",
       "      <td>499.500000</td>\n",
       "      <td>1.01039e+07</td>\n",
       "    </tr>\n",
       "  </tbody>\n",
       "</table>\n",
       "</div>"
      ],
      "text/plain": [
       "         bitcoin  close_price       volume\n",
       "2014-01        7   315.026667  2.31987e+06\n",
       "2014-13        4   515.710000  1.20367e+07\n",
       "2014-14        3   456.730000  8.63078e+06\n",
       "2014-15        3   424.030000   7.8688e+06\n",
       "2014-16        3   499.500000  1.01039e+07"
      ]
     },
     "execution_count": 90,
     "metadata": {},
     "output_type": "execute_result"
    }
   ],
   "source": [
    "final_data_all.head()"
   ]
  },
  {
   "cell_type": "code",
   "execution_count": 123,
   "metadata": {},
   "outputs": [],
   "source": [
    "final_data_all = final_data_all.reset_index().drop_duplicates(subset='index', keep='last').set_index('index')"
   ]
  },
  {
   "cell_type": "code",
   "execution_count": 166,
   "metadata": {},
   "outputs": [],
   "source": [
    "final_data_all.columns = ('Google Trends','Price','Volume')"
   ]
  },
  {
   "cell_type": "code",
   "execution_count": 175,
   "metadata": {
    "scrolled": true
   },
   "outputs": [
    {
     "name": "stderr",
     "output_type": "stream",
     "text": [
      "/Users/JD/miniconda3/lib/python3.6/site-packages/pandas/plotting/_core.py:1716: UserWarning: Pandas doesn't allow columns to be created via a new attribute name - see https://pandas.pydata.org/pandas-docs/stable/indexing.html#attribute-access\n",
      "  series.name = label\n"
     ]
    },
    {
     "data": {
      "text/plain": [
       "<matplotlib.axes._subplots.AxesSubplot at 0x133db1518>"
      ]
     },
     "execution_count": 175,
     "metadata": {},
     "output_type": "execute_result"
    },
    {
     "data": {
      "image/png": "[encoded data removed]",
      "text/plain": [
       "<matplotlib.figure.Figure at 0x133ef5390>"
      ]
     },
     "metadata": {},
     "output_type": "display_data"
    }
   ],
   "source": [
    "final_data_all.plot(y=['Price','Google Trends'], grid = True, secondary_y='Google Trends', xlim=[155,208], title='Bitcoin Prices and Google Searches')\n"
   ]
  },
  {
   "cell_type": "markdown",
   "metadata": {},
   "source": [
    "It seems that Google Trend Bitcoin searches leads 1 week Bitcoin prices, checking the correlationes between normal variables and google trends lagged variables:"
   ]
  },
  {
   "cell_type": "code",
   "execution_count": 161,
   "metadata": {},
   "outputs": [
    {
     "data": {
      "text/plain": [
       "array([[1.        , 0.82439854],\n",
       "       [0.82439854, 1.        ]])"
      ]
     },
     "execution_count": 161,
     "metadata": {},
     "output_type": "execute_result"
    }
   ],
   "source": [
    "import numpy as np\n",
    "np.corrcoef(final_data_all.iloc[145:208, 0], final_data_all.iloc[145:208, 1])"
   ]
  },
  {
   "cell_type": "code",
   "execution_count": 162,
   "metadata": {},
   "outputs": [
    {
     "data": {
      "text/plain": [
       "array([[1.        , 0.88253801],\n",
       "       [0.88253801, 1.        ]])"
      ]
     },
     "execution_count": 162,
     "metadata": {},
     "output_type": "execute_result"
    }
   ],
   "source": [
    "np.corrcoef(final_data_all.iloc[144:207, 0], final_data_all.iloc[145:208, 1])"
   ]
  },
  {
   "cell_type": "code",
   "execution_count": 163,
   "metadata": {},
   "outputs": [
    {
     "data": {
      "text/plain": [
       "SpearmanrResult(correlation=0.9481766214485271, pvalue=4.5345455830947003e-32)"
      ]
     },
     "execution_count": 163,
     "metadata": {},
     "output_type": "execute_result"
    }
   ],
   "source": [
    "from scipy import stats\n",
    "stats.spearmanr(final_data_all.iloc[145:208, 0], final_data_all.iloc[145:208, 1])"
   ]
  },
  {
   "cell_type": "code",
   "execution_count": 164,
   "metadata": {},
   "outputs": [
    {
     "data": {
      "text/plain": [
       "SpearmanrResult(correlation=0.9544535495384683, pvalue=9.687373952289995e-34)"
      ]
     },
     "execution_count": 164,
     "metadata": {},
     "output_type": "execute_result"
    }
   ],
   "source": [
    "stats.spearmanr(final_data_all.iloc[144:207, 0], final_data_all.iloc[145:208, 1])"
   ]
  },
  {
   "cell_type": "markdown",
   "metadata": {},
   "source": [
    "Google Trend variables 1 week have a higher correlation with Bitcoin Prices!"
   ]
  },
  {
   "cell_type": "code",
   "execution_count": 176,
   "metadata": {},
   "outputs": [
    {
     "data": {
      "text/html": [
       "<div>\n",
       "<style scoped>\n",
       "    .dataframe tbody tr th:only-of-type {\n",
       "        vertical-align: middle;\n",
       "    }\n",
       "\n",
       "    .dataframe tbody tr th {\n",
       "        vertical-align: top;\n",
       "    }\n",
       "\n",
       "    .dataframe thead th {\n",
       "        text-align: right;\n",
       "    }\n",
       "</style>\n",
       "<table border=\"1\" class=\"dataframe\">\n",
       "  <thead>\n",
       "    <tr style=\"text-align: right;\">\n",
       "      <th></th>\n",
       "      <th>Google Trends</th>\n",
       "      <th>Price</th>\n",
       "      <th>Volume</th>\n",
       "    </tr>\n",
       "    <tr>\n",
       "      <th>index</th>\n",
       "      <th></th>\n",
       "      <th></th>\n",
       "      <th></th>\n",
       "    </tr>\n",
       "  </thead>\n",
       "  <tbody>\n",
       "    <tr>\n",
       "      <th>2014-01</th>\n",
       "      <td>7</td>\n",
       "      <td>315.026667</td>\n",
       "      <td>2.31987e+06</td>\n",
       "    </tr>\n",
       "    <tr>\n",
       "      <th>2014-13</th>\n",
       "      <td>4</td>\n",
       "      <td>515.710000</td>\n",
       "      <td>1.20367e+07</td>\n",
       "    </tr>\n",
       "    <tr>\n",
       "      <th>2014-14</th>\n",
       "      <td>3</td>\n",
       "      <td>456.730000</td>\n",
       "      <td>8.63078e+06</td>\n",
       "    </tr>\n",
       "    <tr>\n",
       "      <th>2014-15</th>\n",
       "      <td>3</td>\n",
       "      <td>424.030000</td>\n",
       "      <td>7.8688e+06</td>\n",
       "    </tr>\n",
       "    <tr>\n",
       "      <th>2014-16</th>\n",
       "      <td>3</td>\n",
       "      <td>499.500000</td>\n",
       "      <td>1.01039e+07</td>\n",
       "    </tr>\n",
       "  </tbody>\n",
       "</table>\n",
       "</div>"
      ],
      "text/plain": [
       "         Google Trends       Price       Volume\n",
       "index                                          \n",
       "2014-01              7  315.026667  2.31987e+06\n",
       "2014-13              4  515.710000  1.20367e+07\n",
       "2014-14              3  456.730000  8.63078e+06\n",
       "2014-15              3  424.030000   7.8688e+06\n",
       "2014-16              3  499.500000  1.01039e+07"
      ]
     },
     "execution_count": 176,
     "metadata": {},
     "output_type": "execute_result"
    }
   ],
   "source": [
    "final_data_all.head()"
   ]
  },
  {
   "cell_type": "code",
   "execution_count": 192,
   "metadata": {},
   "outputs": [],
   "source": [
    "ds = pd.Series([0]) \n",
    "ds = ds.append(final_data_all.iloc[0:207,0])\n",
    "final_data_all['Google_lagged'] =ds.values"
   ]
  },
  {
   "cell_type": "code",
   "execution_count": 195,
   "metadata": {},
   "outputs": [
    {
     "data": {
      "text/html": [
       "<div>\n",
       "<style scoped>\n",
       "    .dataframe tbody tr th:only-of-type {\n",
       "        vertical-align: middle;\n",
       "    }\n",
       "\n",
       "    .dataframe tbody tr th {\n",
       "        vertical-align: top;\n",
       "    }\n",
       "\n",
       "    .dataframe thead th {\n",
       "        text-align: right;\n",
       "    }\n",
       "</style>\n",
       "<table border=\"1\" class=\"dataframe\">\n",
       "  <thead>\n",
       "    <tr style=\"text-align: right;\">\n",
       "      <th></th>\n",
       "      <th>Google Trends</th>\n",
       "      <th>Price</th>\n",
       "      <th>Volume</th>\n",
       "      <th>Google_lagged</th>\n",
       "    </tr>\n",
       "    <tr>\n",
       "      <th>index</th>\n",
       "      <th></th>\n",
       "      <th></th>\n",
       "      <th></th>\n",
       "      <th></th>\n",
       "    </tr>\n",
       "  </thead>\n",
       "  <tbody>\n",
       "    <tr>\n",
       "      <th>2014-01</th>\n",
       "      <td>7</td>\n",
       "      <td>315.026667</td>\n",
       "      <td>2.31987e+06</td>\n",
       "      <td>0</td>\n",
       "    </tr>\n",
       "    <tr>\n",
       "      <th>2014-13</th>\n",
       "      <td>4</td>\n",
       "      <td>515.710000</td>\n",
       "      <td>1.20367e+07</td>\n",
       "      <td>7</td>\n",
       "    </tr>\n",
       "    <tr>\n",
       "      <th>2014-14</th>\n",
       "      <td>3</td>\n",
       "      <td>456.730000</td>\n",
       "      <td>8.63078e+06</td>\n",
       "      <td>4</td>\n",
       "    </tr>\n",
       "    <tr>\n",
       "      <th>2014-15</th>\n",
       "      <td>3</td>\n",
       "      <td>424.030000</td>\n",
       "      <td>7.8688e+06</td>\n",
       "      <td>3</td>\n",
       "    </tr>\n",
       "    <tr>\n",
       "      <th>2014-16</th>\n",
       "      <td>3</td>\n",
       "      <td>499.500000</td>\n",
       "      <td>1.01039e+07</td>\n",
       "      <td>3</td>\n",
       "    </tr>\n",
       "  </tbody>\n",
       "</table>\n",
       "</div>"
      ],
      "text/plain": [
       "         Google Trends       Price       Volume  Google_lagged\n",
       "index                                                         \n",
       "2014-01              7  315.026667  2.31987e+06              0\n",
       "2014-13              4  515.710000  1.20367e+07              7\n",
       "2014-14              3  456.730000  8.63078e+06              4\n",
       "2014-15              3  424.030000   7.8688e+06              3\n",
       "2014-16              3  499.500000  1.01039e+07              3"
      ]
     },
     "execution_count": 195,
     "metadata": {},
     "output_type": "execute_result"
    }
   ],
   "source": [
    "final_data_all.head()"
   ]
  },
  {
   "cell_type": "code",
   "execution_count": 197,
   "metadata": {},
   "outputs": [
    {
     "name": "stderr",
     "output_type": "stream",
     "text": [
      "/Users/JD/miniconda3/lib/python3.6/site-packages/pandas/plotting/_core.py:1716: UserWarning: Pandas doesn't allow columns to be created via a new attribute name - see https://pandas.pydata.org/pandas-docs/stable/indexing.html#attribute-access\n",
      "  series.name = label\n"
     ]
    },
    {
     "data": {
      "text/plain": [
       "<matplotlib.axes._subplots.AxesSubplot at 0x1340db3c8>"
      ]
     },
     "execution_count": 197,
     "metadata": {},
     "output_type": "execute_result"
    },
    {
     "data": {
      "image/png": "[encoded data removed]",
      "text/plain": [
       "<matplotlib.figure.Figure at 0x134112128>"
      ]
     },
     "metadata": {},
     "output_type": "display_data"
    }
   ],
   "source": [
    "final_data_all.plot(y=['Price','Google_lagged'], grid = True, secondary_y=['Google_lagged'], xlim=[155,208], title='Bitcoin Prices and Google Searches')\n"
   ]
  },
  {
   "cell_type": "markdown",
   "metadata": {},
   "source": [
    "This graphs shows how the lagged variable (1 week) of Google Trends of bitcoin searches have a higher correlation coefficient, indicating that Google Trends can be a good predictor of the prices in scenarios of high volatility and speculation.\n",
    "\n",
    "This analysis could be extendend to include sentiment analysis for the news showed on internet to create a robust prediciton system."
   ]
  },
  {
   "cell_type": "code",
   "execution_count": null,
   "metadata": {},
   "outputs": [],
   "source": [
    "import os\n",
    "cwd = os.getcwd()\n",
    "final_data_all.to_csv(cwd + '/final_data_all.csv', sep = ',')"
   ]
  }
 ],
 "metadata": {
  "kernelspec": {
   "display_name": "Python 3",
   "language": "python",
   "name": "python3"
  },
  "language_info": {
   "codemirror_mode": {
    "name": "ipython",
    "version": 3
   },
   "file_extension": ".py",
   "mimetype": "text/x-python",
   "name": "python",
   "nbconvert_exporter": "python",
   "pygments_lexer": "ipython3",
   "version": "3.6.3"
  }
 },
 "nbformat": 4,
 "nbformat_minor": 2
}
